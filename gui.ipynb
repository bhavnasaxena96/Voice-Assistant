{
 "cells": [
  {
   "cell_type": "code",
   "execution_count": 1,
   "id": "fa09dc26",
   "metadata": {},
   "outputs": [],
   "source": [
    "from tkinter import *\n",
    "\n",
    "root=Tk()\n",
    "root.title(\"Voice Assistant\")\n",
    "root.geometry(\"1000x1040\")\n",
    "photo = PhotoImage(file=\"assistant-img1.png\")\n",
    "p_label = Label(image=photo)\n",
    "#p_label.pack()\n",
    "\n",
    "frame_login = Frame(root,borderwidth=6,bg=\"#151516\",relief=RAISED)\n",
    "frame_login.place(x=280,y=170,height=390,width=400)\n",
    "title = Label(frame_login,text=\"Assistant\",font=(\"impact\",35,\"bold\"),fg=\"white\",bg=\"#151516\").place(x=90,y=30)\n",
    "run_btn = Button(root,text=\"RUN\",cursor=\"hand2\",font=(\"times new roman\",15),fg=\"black\",bg=\"#F7D8E9\").place(x=300,y=500,width=180,height=40)\n",
    "exit_btn = Button(root,text=\"exit\",cursor=\"hand2\",font=(\"times new roman\",15),fg=\"black\",bg=\"#F7D8E9\").place(x=480,y=500,width=180,height=40)\n",
    "\n",
    "\n",
    "            \n",
    "            \n",
    "            \n",
    "p_label.pack()\n",
    "\n",
    "root.mainloop()"
   ]
  },
  {
   "cell_type": "code",
   "execution_count": null,
   "id": "ca04ee26",
   "metadata": {},
   "outputs": [],
   "source": []
  }
 ],
 "metadata": {
  "kernelspec": {
   "display_name": "Python 3",
   "language": "python",
   "name": "python3"
  },
  "language_info": {
   "codemirror_mode": {
    "name": "ipython",
    "version": 3
   },
   "file_extension": ".py",
   "mimetype": "text/x-python",
   "name": "python",
   "nbconvert_exporter": "python",
   "pygments_lexer": "ipython3",
   "version": "3.8.5"
  }
 },
 "nbformat": 4,
 "nbformat_minor": 5
}
